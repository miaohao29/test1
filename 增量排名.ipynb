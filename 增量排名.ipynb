{
 "cells": [
  {
   "cell_type": "code",
   "execution_count": 6,
   "metadata": {},
   "outputs": [],
   "source": [
    "import pandas as pd\n",
    "import numpy as np\n",
    "from sklearn.preprocessing import PolynomialFeatures\n",
    "from sklearn import linear_model"
   ]
  },
  {
   "cell_type": "code",
   "execution_count": 9,
   "metadata": {},
   "outputs": [],
   "source": [
    "filename = r\"C:\\Users\\rk\\Desktop\\123.csv\"\n",
    "df= pd.read_csv(filename)\n",
    "x = np.array(df.iloc[:,1:3].values)\n",
    "y = np.array(df.iloc[:,3].values)"
   ]
  },
  {
   "cell_type": "code",
   "execution_count": 10,
   "metadata": {
    "scrolled": true
   },
   "outputs": [
    {
     "name": "stdout",
     "output_type": "stream",
     "text": [
      "(994, 2)\n",
      "model coefficients [0.18994297 0.5719379 ]\n",
      "model intercept -7.056437653420311\n"
     ]
    }
   ],
   "source": [
    "cft = linear_model.LinearRegression()\n",
    "print(x.shape)\n",
    "cft.fit(x, y) #\n",
    "\n",
    "print(\"model coefficients\", cft.coef_)\n",
    "print(\"model intercept\", cft.intercept_)\n",
    "\n",
    "\n"
   ]
  },
  {
   "cell_type": "code",
   "execution_count": null,
   "metadata": {},
   "outputs": [],
   "source": [
    "predict_y =  cft.predict(x)\n",
    "strError = stdError_func(predict_y, y)\n",
    "R2_1 = R2_1_func(predict_y, y)\n",
    "R2_2 = R2_2_func(predict_y, y)\n",
    "score = cft.score(x, y) ##sklearn中自带的模型评估，与R2_1逻辑相同\n",
    "\n",
    "print('strError={:.2f}, R2_1={:.2f},  R2_2={:.2f}, clf.score={:.2f}'.format(\n",
    "    strError,R2_1,R2_2,score))"
   ]
  },
  {
   "cell_type": "code",
   "execution_count": null,
   "metadata": {},
   "outputs": [],
   "source": []
  }
 ],
 "metadata": {
  "kernelspec": {
   "display_name": "Python 3",
   "language": "python",
   "name": "python3"
  },
  "language_info": {
   "codemirror_mode": {
    "name": "ipython",
    "version": 3
   },
   "file_extension": ".py",
   "mimetype": "text/x-python",
   "name": "python",
   "nbconvert_exporter": "python",
   "pygments_lexer": "ipython3",
   "version": "3.6.5"
  }
 },
 "nbformat": 4,
 "nbformat_minor": 2
}
